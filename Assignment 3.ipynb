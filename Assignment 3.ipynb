{
 "cells": [
  {
   "cell_type": "code",
   "execution_count": 3,
   "metadata": {},
   "outputs": [],
   "source": [
    "library (ggplot2)\n",
    "titanic=read.csv(\"C:\\\\Users\\\\student\\\\Documents\\\\Applied Data Mining\\\\train.csv\")"
   ]
  },
  {
   "cell_type": "code",
   "execution_count": 4,
   "metadata": {},
   "outputs": [
    {
     "data": {
      "text/html": [
       "177"
      ],
      "text/latex": [
       "177"
      ],
      "text/markdown": [
       "177"
      ],
      "text/plain": [
       "[1] 177"
      ]
     },
     "metadata": {},
     "output_type": "display_data"
    }
   ],
   "source": [
    "sum(is.na(titanic))"
   ]
  },
  {
   "cell_type": "code",
   "execution_count": 5,
   "metadata": {},
   "outputs": [],
   "source": [
    "titanic[is.na(titanic$Age),]$Age=mean(titanic$Age, na.rm = TRUE)"
   ]
  },
  {
   "cell_type": "code",
   "execution_count": 6,
   "metadata": {},
   "outputs": [],
   "source": [
    "titanic$PassengerId = NULL\n",
    "titanic$Name = NULL"
   ]
  },
  {
   "cell_type": "code",
   "execution_count": 7,
   "metadata": {},
   "outputs": [
    {
     "data": {
      "text/html": [
       "29.6991176470588"
      ],
      "text/latex": [
       "29.6991176470588"
      ],
      "text/markdown": [
       "29.6991176470588"
      ],
      "text/plain": [
       "[1] 29.69912"
      ]
     },
     "metadata": {},
     "output_type": "display_data"
    }
   ],
   "source": [
    "mean(titanic$Age)"
   ]
  },
  {
   "cell_type": "code",
   "execution_count": 8,
   "metadata": {},
   "outputs": [
    {
     "data": {
      "text/html": [
       "28.2167300487074"
      ],
      "text/latex": [
       "28.2167300487074"
      ],
      "text/markdown": [
       "28.2167300487074"
      ],
      "text/plain": [
       "[1] 28.21673"
      ]
     },
     "metadata": {},
     "output_type": "display_data"
    }
   ],
   "source": [
    "mean(titanic[titanic$Sex==\"female\",]$Age)"
   ]
  },
  {
   "cell_type": "code",
   "execution_count": 9,
   "metadata": {},
   "outputs": [
    {
     "data": {
      "text/html": [
       "60.2875"
      ],
      "text/latex": [
       "60.2875"
      ],
      "text/markdown": [
       "60.2875"
      ],
      "text/plain": [
       "[1] 60.2875"
      ]
     },
     "metadata": {},
     "output_type": "display_data"
    }
   ],
   "source": [
    "median(titanic[titanic$Pclass==1,]$Fare)"
   ]
  },
  {
   "cell_type": "code",
   "execution_count": 10,
   "metadata": {},
   "outputs": [
    {
     "data": {
      "text/html": [
       "14.45625"
      ],
      "text/latex": [
       "14.45625"
      ],
      "text/markdown": [
       "14.45625"
      ],
      "text/plain": [
       "[1] 14.45625"
      ]
     },
     "metadata": {},
     "output_type": "display_data"
    }
   ],
   "source": [
    "median(titanic[(titanic$Sex==\"female\")&(titanic$Pclass!=1),]$Fare)"
   ]
  },
  {
   "cell_type": "code",
   "execution_count": 11,
   "metadata": {},
   "outputs": [
    {
     "data": {
      "text/html": [
       "30"
      ],
      "text/latex": [
       "30"
      ],
      "text/markdown": [
       "30"
      ],
      "text/plain": [
       "[1] 30"
      ]
     },
     "metadata": {},
     "output_type": "display_data"
    }
   ],
   "source": [
    "median(titanic[(titanic$Survived==TRUE)&(titanic$Sex==\"female\")&(titanic$Pclass!=3),]$Age)"
   ]
  },
  {
   "cell_type": "code",
   "execution_count": 12,
   "metadata": {},
   "outputs": [
    {
     "data": {
      "text/html": [
       "53.9634296296296"
      ],
      "text/latex": [
       "53.9634296296296"
      ],
      "text/markdown": [
       "53.9634296296296"
      ],
      "text/plain": [
       "[1] 53.96343"
      ]
     },
     "metadata": {},
     "output_type": "display_data"
    }
   ],
   "source": [
    "mean(titanic[(titanic$Sex==\"female\")&(titanic$Survived==TRUE)&(titanic$Age>=13)&(titanic$Age<=18),]$Fare)"
   ]
  },
  {
   "cell_type": "code",
   "execution_count": 13,
   "metadata": {},
   "outputs": [
    {
     "data": {
      "text/html": [
       "125.06667"
      ],
      "text/latex": [
       "125.06667"
      ],
      "text/markdown": [
       "125.06667"
      ],
      "text/plain": [
       "[1] 125.0667"
      ]
     },
     "metadata": {},
     "output_type": "display_data"
    },
    {
     "data": {
      "text/html": [
       "18.0118"
      ],
      "text/latex": [
       "18.0118"
      ],
      "text/markdown": [
       "18.0118"
      ],
      "text/plain": [
       "[1] 18.0118"
      ]
     },
     "metadata": {},
     "output_type": "display_data"
    },
    {
     "data": {
      "text/html": [
       "8.9341"
      ],
      "text/latex": [
       "8.9341"
      ],
      "text/markdown": [
       "8.9341"
      ],
      "text/plain": [
       "[1] 8.9341"
      ]
     },
     "metadata": {},
     "output_type": "display_data"
    }
   ],
   "source": [
    "mean(titanic[(titanic$Sex==\"female\")&(titanic$Pclass==1)&(titanic$Survived==TRUE)&(titanic$Age>=13)&(titanic$Age<=18),]$Fare)\n",
    "mean(titanic[(titanic$Sex==\"female\")&(titanic$Pclass==2)&(titanic$Survived==TRUE)&(titanic$Age>=13)&(titanic$Age<=18),]$Fare)\n",
    "mean(titanic[(titanic$Sex==\"female\")&(titanic$Pclass==3)&(titanic$Survived==TRUE)&(titanic$Age>=13)&(titanic$Age<=18),]$Fare)"
   ]
  },
  {
   "cell_type": "code",
   "execution_count": 14,
   "metadata": {},
   "outputs": [
    {
     "data": {
      "text/html": [
       "0.597156398104265"
      ],
      "text/latex": [
       "0.597156398104265"
      ],
      "text/markdown": [
       "0.597156398104265"
      ],
      "text/plain": [
       "[1] 0.5971564"
      ]
     },
     "metadata": {},
     "output_type": "display_data"
    }
   ],
   "source": [
    "averageFare=mean(titanic$Fare)\n",
    "(nrow(titanic[(titanic$Survived==TRUE)&(titanic$Fare>averageFare),]))/(nrow(titanic[(titanic$Fare>averageFare),]))"
   ]
  },
  {
   "cell_type": "code",
   "execution_count": 15,
   "metadata": {},
   "outputs": [],
   "source": [
    "sdFare=sd(titanic$Fare)\n",
    "titanic$sfare <- ((titanic$Fare - mean(titanic$Fare))/sdFare)"
   ]
  },
  {
   "cell_type": "code",
   "execution_count": 16,
   "metadata": {},
   "outputs": [
    {
     "data": {},
     "metadata": {},
     "output_type": "display_data"
    },
    {
     "data": {
      "image/png": "[encoded data removed]",
      "text/plain": [
       "plot without title"
      ]
     },
     "metadata": {},
     "output_type": "display_data",
     "source": "R display func"
    }
   ],
   "source": [
    "ggplot(titanic)+geom_bar(data=titanic[titanic$Age<mean(titanic$Age),], mapping = aes(x=Sex, fill=Survived))"
   ]
  },
  {
   "cell_type": "code",
   "execution_count": 17,
   "metadata": {},
   "outputs": [
    {
     "data": {},
     "metadata": {},
     "output_type": "display_data"
    },
    {
     "data": {
      "image/png": "[encoded data removed]",
      "text/plain": [
       "plot without title"
      ]
     },
     "metadata": {},
     "output_type": "display_data",
     "source": "R display func"
    }
   ],
   "source": [
    "ggplot(titanic)+geom_density(data=titanic[(titanic$Survived==TRUE)&(titanic$Fare>mean(titanic$Fare)),],mapping = aes(x=Age))"
   ]
  },
  {
   "cell_type": "code",
   "execution_count": 18,
   "metadata": {},
   "outputs": [
    {
     "name": "stderr",
     "output_type": "stream",
     "text": [
      "Warning message:\n",
      "\"Groups with fewer than two data points have been dropped.\""
     ]
    },
    {
     "data": {},
     "metadata": {},
     "output_type": "display_data"
    },
    {
     "data": {
      "image/png": "[encoded data removed]",
      "text/plain": [
       "plot without title"
      ]
     },
     "metadata": {},
     "output_type": "display_data",
     "source": "R display func"
    }
   ],
   "source": [
    "ggplot(titanic)+geom_density(data=titanic[(titanic$Survived==TRUE)&(titanic$Fare>mean(titanic$Fare))&(titanic$Embarked!=\"C\"),],mapping = aes(x=Age,color=Embarked))"
   ]
  },
  {
   "cell_type": "code",
   "execution_count": 19,
   "metadata": {},
   "outputs": [],
   "source": [
    "titanic$cfare <- ifelse(titanic$Fare > mean(titanic$Fare), \"expensive\", \"cheap\")"
   ]
  },
  {
   "cell_type": "code",
   "execution_count": 20,
   "metadata": {},
   "outputs": [],
   "source": [
    "titanic$cage <- ifelse(titanic$Age <= 10, 0, ifelse(titanic$Age <= 20, 1, ifelse(titanic$Age <= 30, 2, ifelse(titanic$Age <= 40, 3, ifelse(titanic$Age <= 50, 4, ifelse(titanic$Age <= 60, 5, ifelse(titanic$Age <= 70, 6, 7)))))))"
   ]
  },
  {
   "cell_type": "code",
   "execution_count": 21,
   "metadata": {},
   "outputs": [
    {
     "data": {},
     "metadata": {},
     "output_type": "display_data"
    },
    {
     "data": {
      "image/png": "[encoded data removed]",
      "text/plain": [
       "plot without title"
      ]
     },
     "metadata": {},
     "output_type": "display_data",
     "source": "R display func"
    }
   ],
   "source": [
    "titanic$Survived <- factor(titanic$Survived)\n",
    "ggplot(titanic) + geom_bar(data=titanic[titanic$Fare>mean(titanic$Fare),],mapping=aes(x=cage,fill=Survived),position=\"dodge\")"
   ]
  },
  {
   "cell_type": "code",
   "execution_count": 22,
   "metadata": {},
   "outputs": [
    {
     "data": {},
     "metadata": {},
     "output_type": "display_data"
    },
    {
     "data": {
      "image/png": "[encoded data removed]",
      "text/plain": [
       "plot without title"
      ]
     },
     "metadata": {},
     "output_type": "display_data",
     "source": "R display func"
    }
   ],
   "source": [
    "ggplot(data = titanic)+geom_bar(data=titanic[titanic$Fare>mean(titanic$Fare),],mapping = aes(x = cage, fill=Survived))+facet_wrap(~ Pclass, nrow = 3)"
   ]
  },
  {
   "cell_type": "code",
   "execution_count": null,
   "metadata": {},
   "outputs": [],
   "source": []
  }
 ],
 "metadata": {
  "kernelspec": {
   "display_name": "R",
   "language": "R",
   "name": "ir"
  },
  "language_info": {
   "codemirror_mode": "r",
   "file_extension": ".r",
   "mimetype": "text/x-r-source",
   "name": "R",
   "pygments_lexer": "r",
   "version": "3.5.1"
  }
 },
 "nbformat": 4,
 "nbformat_minor": 2
}
