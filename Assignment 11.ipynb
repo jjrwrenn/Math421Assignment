{
 "cells": [
  {
   "cell_type": "code",
   "execution_count": 1,
   "metadata": {},
   "outputs": [
    {
     "name": "stderr",
     "output_type": "stream",
     "text": [
      "Rattle: A free graphical interface for data science with R.\n",
      "Version 5.2.0 Copyright (c) 2006-2018 Togaware Pty Ltd.\n",
      "Type 'rattle()' to shake, rattle, and roll your data.\n"
     ]
    }
   ],
   "source": [
    "library(ggplot2)\n",
    "library(lattice)\n",
    "library(rpart)\n",
    "library(rattle)\n",
    "library(caret)\n",
    "adult = read.csv(\"C:\\\\Users\\\\student\\\\Documents\\\\Statistical Analysis using R\\\\Assignment 10\\\\adult.csv\", header = FALSE)\n",
    "colnames(adult) <- c(\"age\", \"workclass\", \"fnlwgt\", \"education\", \"education_num\", \"marital_status\", \"occupation\", \"relationship\", \"race\", \"sex\", \"capital_gain\", \"capital_loss\", \"hours_per_week\", \"country\", \"salary_bucket\")"
   ]
  },
  {
   "cell_type": "code",
   "execution_count": 2,
   "metadata": {},
   "outputs": [],
   "source": [
    "levels(adult$workclass)[levels(adult$workingclass)==\" ?\"]<-NA\n",
    "levels(adult$occupation)[levels(adult$occupation)==\" ?\"]<-NA\n",
    "levels(adult$country)[levels(adult$country)==\" ?\"]<-NA"
   ]
  },
  {
   "cell_type": "code",
   "execution_count": 3,
   "metadata": {},
   "outputs": [],
   "source": [
    "replaceMissingValues = function(dataSet) {\n",
    "  for(j in 1:ncol(dataSet)) {\n",
    "    if(is.factor(dataSet[,j])) {\n",
    "      dataSet[,j][is.na(dataSet[,j])]<-names(sort(table(dataSet[,j])))[1]\n",
    "    }\n",
    "  }\n",
    "  return(dataSet)\n",
    "}\n",
    "adult=replaceMissingValues(adult)"
   ]
  },
  {
   "cell_type": "code",
   "execution_count": 4,
   "metadata": {},
   "outputs": [
    {
     "data": {
      "text/plain": [
       "Created from 32561 samples and 15 variables\n",
       "\n",
       "Pre-processing:\n",
       "  - centered (6)\n",
       "  - ignored (9)\n",
       "  - 5 nearest neighbor imputation (6)\n",
       "  - scaled (6)\n"
      ]
     },
     "metadata": {},
     "output_type": "display_data"
    }
   ],
   "source": [
    "library(caret)\n",
    "preProcessDataModel <- preProcess(adult, method='knnImpute')\n",
    "preProcessDataModel"
   ]
  },
  {
   "cell_type": "code",
   "execution_count": 5,
   "metadata": {},
   "outputs": [],
   "source": [
    "levels(adult$country)<-c(\"Asia\",\"North_America\",\"Asia\",\"South_America\",\"North_America\",\"North_America\",\"South_America\",\"North_America\",\"Europe\",\"Europe\",\"Europe\",\"Europe\",\"North_America\",\"North_America\",\"Europe\",\"North_America\",\"Asia\",\"Europe\",\"Asia\",\"Asia\",\"Europe\",\"Europe\",\"North_America\",\"Asia\",\"Asia\",\"North_America\",\"South_America\",\"Oceanic\",\"South_America\",\"Oceanic\",\"Europe\",\"Europe\",\"North_America\",\"Europe\",\"Asia\",\"Asia\",\"Asia\",\"North_America\",\"South_America\",\"Asia\",\"Europe\")\n",
    "levels(adult$education)<-c(\"High_school\",\"High_school\",\"High_school\",\"Elementary\",\"Elementary\",\"Elementary\",\"High_school\",\"Undergrad\",\"Undergrad\",\"Undergrad\",\"Postgrad\",\"High_school\",\"Professiona\",\"Elementary\",\"Postgrad\",\"Undergrad\")\n",
    "levels(adult$occupation)<-c(\"Business\",\"Government\",\"Industry\",\"Business\",\"Agriculture\",\"Business\",\"Industry\",\"Other\",\"Business\",\"Business\",\"Government\",\"Business\",\"Business\",\"Industry\")"
   ]
  },
  {
   "cell_type": "code",
   "execution_count": 6,
   "metadata": {},
   "outputs": [
    {
     "name": "stderr",
     "output_type": "stream",
     "text": [
      "Warning message in model.frame.default(Terms, newdata, na.action = na.action, xlev = object$lvls):\n",
      "\"variable 'salary_bucket' is not a factor\""
     ]
    }
   ],
   "source": [
    "if(!is.factor(adult$salary_bucket)) {\n",
    "  adult$salary_bucket = factor(adult$salary_bucket)\n",
    "}\n",
    "dummies_model <- dummyVars(salary_bucket~., data=adult)\n",
    "\n",
    "\n",
    "# Create the dummy variables using predict. The Y variable will not be present in trainData_mat.\n",
    "trainData_mat <- predict(dummies_model, newdata = adult)\n",
    "\n",
    "# # Convert to dataframe\n",
    "trainData <- data.frame(trainData_mat)\n",
    "trainData$salary_bucket <- adult$salary_bucket\n",
    "\n",
    "adult = trainData"
   ]
  },
  {
   "cell_type": "code",
   "execution_count": 7,
   "metadata": {},
   "outputs": [
    {
     "data": {
      "text/plain": [
       "Created from 32561 samples and 51 variables\n",
       "\n",
       "Pre-processing:\n",
       "  - centered (50)\n",
       "  - ignored (1)\n",
       "  - scaled (50)\n"
      ]
     },
     "metadata": {},
     "output_type": "display_data"
    }
   ],
   "source": [
    "preProcess_missingdata_model <- preProcess(adult, method= c(\"center\", \"scale\"))\n",
    "preProcess_missingdata_model"
   ]
  },
  {
   "cell_type": "code",
   "execution_count": 8,
   "metadata": {},
   "outputs": [
    {
     "data": {
      "text/html": [
       "<strong>Accuracy:</strong> 0.844389844389844"
      ],
      "text/latex": [
       "\\textbf{Accuracy:} 0.844389844389844"
      ],
      "text/markdown": [
       "**Accuracy:** 0.844389844389844"
      ],
      "text/plain": [
       " Accuracy \n",
       "0.8443898 "
      ]
     },
     "metadata": {},
     "output_type": "display_data"
    },
    {
     "data": {
      "text/html": [
       "<strong>Balanced Accuracy:</strong> 0.740742575347291"
      ],
      "text/latex": [
       "\\textbf{Balanced Accuracy:} 0.740742575347291"
      ],
      "text/markdown": [
       "**Balanced Accuracy:** 0.740742575347291"
      ],
      "text/plain": [
       "Balanced Accuracy \n",
       "        0.7407426 "
      ]
     },
     "metadata": {},
     "output_type": "display_data"
    }
   ],
   "source": [
    "set.seed(2018)\n",
    "names(adult)[51]=\"salary_bucket\"\n",
    "splitIndex <- createDataPartition(adult$salary_bucket, p = 0.70, list = FALSE, times = 1)\n",
    "trainData <- adult[splitIndex,]\n",
    "testData <- adult[-splitIndex,]\n",
    "mytree <- rpart(salary_bucket ~ ., data = trainData, method = \"class\")\n",
    "pred <- predict(mytree, testData, type = \"class\")\n",
    "cm=confusionMatrix(data = pred, reference = testData$salary_bucket, positive = \" >50K\")\n",
    "dataAccuracy<-cm[[3]][1]\n",
    "dataBalancedAccuracy<-cm[[4]][11]\n",
    "dataAccuracy\n",
    "dataBalancedAccuracy"
   ]
  },
  {
   "cell_type": "code",
   "execution_count": 9,
   "metadata": {},
   "outputs": [
    {
     "name": "stderr",
     "output_type": "stream",
     "text": [
      "\n",
      "Attaching package: 'ranger'\n",
      "\n",
      "The following object is masked from 'package:rattle':\n",
      "\n",
      "    importance\n",
      "\n"
     ]
    },
    {
     "data": {
      "text/html": [
       "<strong>Accuracy:</strong> 0.860769860769861"
      ],
      "text/latex": [
       "\\textbf{Accuracy:} 0.860769860769861"
      ],
      "text/markdown": [
       "**Accuracy:** 0.860769860769861"
      ],
      "text/plain": [
       " Accuracy \n",
       "0.8607699 "
      ]
     },
     "metadata": {},
     "output_type": "display_data"
    },
    {
     "data": {
      "text/html": [
       "<strong>Balanced Accuracy:</strong> 0.77504650727605"
      ],
      "text/latex": [
       "\\textbf{Balanced Accuracy:} 0.77504650727605"
      ],
      "text/markdown": [
       "**Balanced Accuracy:** 0.77504650727605"
      ],
      "text/plain": [
       "Balanced Accuracy \n",
       "        0.7750465 "
      ]
     },
     "metadata": {},
     "output_type": "display_data"
    }
   ],
   "source": [
    "library(ranger)\n",
    "modelRanForest = ranger(salary_bucket~.,data=trainData, classification = TRUE)\n",
    "pred = predict(modelRanForest, data = testData)$predictions\n",
    "cmf=confusionMatrix(as.factor(pred), as.factor(testData$salary_bucket), positive = \" >50K\")\n",
    "cmf[[3]][1]\n",
    "cmf[[4]][11]"
   ]
  },
  {
   "cell_type": "code",
   "execution_count": 10,
   "metadata": {},
   "outputs": [
    {
     "data": {
      "text/html": [
       "<strong>Accuracy:</strong> 0.845618345618346"
      ],
      "text/latex": [
       "\\textbf{Accuracy:} 0.845618345618346"
      ],
      "text/markdown": [
       "**Accuracy:** 0.845618345618346"
      ],
      "text/plain": [
       " Accuracy \n",
       "0.8456183 "
      ]
     },
     "metadata": {},
     "output_type": "display_data"
    },
    {
     "data": {
      "text/html": [
       "<strong>Balanced Accuracy:</strong> 0.741406473592673"
      ],
      "text/latex": [
       "\\textbf{Balanced Accuracy:} 0.741406473592673"
      ],
      "text/markdown": [
       "**Balanced Accuracy:** 0.741406473592673"
      ],
      "text/plain": [
       "Balanced Accuracy \n",
       "        0.7414065 "
      ]
     },
     "metadata": {},
     "output_type": "display_data"
    }
   ],
   "source": [
    "replaceMissingValues = function(dataSet) {\n",
    "  for(j in 1:ncol(dataSet)) {\n",
    "    if(!is.numeric(dataSet[,j])) {\n",
    "      levels(dataSet[,j])[levels(dataSet[,j])==\" ?\"]<-names(sort(table(dataSet[,j])))[1]\n",
    "      levels(dataSet[,j])[levels(dataSet[,j])==\" .\"]<-names(sort(table(dataSet[,j])))[1]\n",
    "      levels(dataSet[,j])[levels(dataSet[,j])==\" NA\"]<-names(sort(table(dataSet[,j])))[1]\n",
    "    } else {\n",
    "      dataSet[,j][is.na(dataSet[,j])]<-mean(dataSet[,j],na.rm=TRUE)\n",
    "    }\n",
    "  }\n",
    "  return(dataSet)\n",
    "}\n",
    "adult2 = read.csv(\"C:\\\\Users\\\\student\\\\Documents\\\\Statistical Analysis using R\\\\Assignment 10\\\\adult.csv\", header = FALSE)\n",
    "colnames(adult2) <- c(\"age\", \"workclass\", \"fnlwgt\", \"education\", \"education_num\", \"marital_status\", \"occupation\", \"relationship\", \"race\", \"sex\", \"capital_gain\", \"capital_loss\", \"hours_per_week\", \"country\", \"salary_bucket\")\n",
    "levels(adult2$workclass)[levels(adult2$workingclass)==\" ?\"]<-NA\n",
    "levels(adult2$occupation)[levels(adult2$occupation)==\" ?\"]<-NA\n",
    "levels(adult2$country)[levels(adult2$country)==\" ?\"]<-NA\n",
    "\n",
    "levels(adult2$country)<-c(\"Asia\",\"North_America\",\"Asia\",\"South_America\",\"North_America\",\"North_America\",\"South_America\",\"North_America\",\"Europe\",\"Europe\",\"Europe\",\"Europe\",\"North_America\",\"North_America\",\"Europe\",\"North_America\",\"Asia\",\"Europe\",\"Asia\",\"Asia\",\"Europe\",\"Europe\",\"North_America\",\"Asia\",\"Asia\",\"North_America\",\"South_America\",\"Oceanic\",\"South_America\",\"Oceanic\",\"Europe\",\"Europe\",\"North_America\",\"Europe\",\"Asia\",\"Asia\",\"Asia\",\"North_America\",\"South_America\",\"Asia\",\"Europe\")\n",
    "levels(adult2$education)<-c(\"High_school\",\"High_school\",\"High_school\",\"Elementary\",\"Elementary\",\"Elementary\",\"High_school\",\"Undergrad\",\"Undergrad\",\"Undergrad\",\"Postgrad\",\"High_school\",\"Professiona\",\"Elementary\",\"Postgrad\",\"Undergrad\")\n",
    "levels(adult2$occupation)<-c(\"Business\",\"Government\",\"Industry\",\"Business\",\"Agriculture\",\"Business\",\"Industry\",\"Other\",\"Business\",\"Business\",\"Government\",\"Business\",\"Business\",\"Industry\")\n",
    "adult2<-replaceMissingValues(adult2)\n",
    "\n",
    "set.seed(2018)\n",
    "names(adult2)[15]=\"salary_bucket\"\n",
    "splitIndex <- createDataPartition(adult$salary_bucket, p = 0.70, list = FALSE, times = 1)\n",
    "trainData <- adult2[splitIndex,]\n",
    "testData <- adult2[-splitIndex,]\n",
    "mytree <- rpart(salary_bucket ~ ., data = trainData, method = \"class\")\n",
    "pred <- predict(mytree, testData, type = \"class\")\n",
    "cm=confusionMatrix(data = pred, reference = testData$salary_bucket, positive = \" >50K\")\n",
    "dataAccuracy<-cm[[3]][1]\n",
    "dataBalancedAccuracy<-cm[[4]][11]\n",
    "dataAccuracy\n",
    "dataBalancedAccuracy"
   ]
  },
  {
   "cell_type": "code",
   "execution_count": 11,
   "metadata": {},
   "outputs": [
    {
     "data": {
      "text/plain": [
       "Created from 32561 samples and 51 variables\n",
       "\n",
       "Pre-processing:\n",
       "  - centered (50)\n",
       "  - ignored (1)\n",
       "  - 5 nearest neighbor imputation (50)\n",
       "  - scaled (50)\n"
      ]
     },
     "metadata": {},
     "output_type": "display_data"
    },
    {
     "data": {
      "text/html": [
       "<strong>Accuracy:</strong> 0.844389844389844"
      ],
      "text/latex": [
       "\\textbf{Accuracy:} 0.844389844389844"
      ],
      "text/markdown": [
       "**Accuracy:** 0.844389844389844"
      ],
      "text/plain": [
       " Accuracy \n",
       "0.8443898 "
      ]
     },
     "metadata": {},
     "output_type": "display_data"
    },
    {
     "data": {
      "text/html": [
       "<strong>Balanced Accuracy:</strong> 0.740742575347291"
      ],
      "text/latex": [
       "\\textbf{Balanced Accuracy:} 0.740742575347291"
      ],
      "text/markdown": [
       "**Balanced Accuracy:** 0.740742575347291"
      ],
      "text/plain": [
       "Balanced Accuracy \n",
       "        0.7407426 "
      ]
     },
     "metadata": {},
     "output_type": "display_data"
    }
   ],
   "source": [
    "preProcessDataModel <- preProcess(adult, method='knnImpute')\n",
    "preProcessDataModel\n",
    "\n",
    "set.seed(2018)\n",
    "names(adult)[51]=\"salary_bucket\"\n",
    "splitIndex <- createDataPartition(adult$salary_bucket, p = 0.70, list = FALSE, times = 1)\n",
    "trainData <- adult[splitIndex,]\n",
    "testData <- adult[-splitIndex,]\n",
    "mytree <- rpart(salary_bucket ~ ., data = trainData, method = \"class\")\n",
    "pred <- predict(mytree, testData, type = \"class\")\n",
    "cm=confusionMatrix(data = (pred), reference = (testData$salary_bucket), positive = \" >50K\")\n",
    "dataAccuracy<-cm[[3]][1]\n",
    "dataBalancedAccuracy<-cm[[4]][11]\n",
    "dataAccuracy\n",
    "dataBalancedAccuracy"
   ]
  },
  {
   "cell_type": "code",
   "execution_count": 12,
   "metadata": {},
   "outputs": [
    {
     "data": {
      "text/plain": [
       "Created from 30162 samples and 15 variables\n",
       "\n",
       "Pre-processing:\n",
       "  - centered (6)\n",
       "  - ignored (9)\n",
       "  - 5 nearest neighbor imputation (6)\n",
       "  - scaled (6)\n"
      ]
     },
     "metadata": {},
     "output_type": "display_data"
    },
    {
     "name": "stderr",
     "output_type": "stream",
     "text": [
      "Warning message in model.frame.default(Terms, newdata, na.action = na.action, xlev = object$lvls):\n",
      "\"variable 'salary_bucket' is not a factor\""
     ]
    },
    {
     "data": {
      "text/html": [
       "<strong>Accuracy:</strong> 0.844389844389844"
      ],
      "text/latex": [
       "\\textbf{Accuracy:} 0.844389844389844"
      ],
      "text/markdown": [
       "**Accuracy:** 0.844389844389844"
      ],
      "text/plain": [
       " Accuracy \n",
       "0.8443898 "
      ]
     },
     "metadata": {},
     "output_type": "display_data"
    },
    {
     "data": {
      "text/html": [
       "<strong>Balanced Accuracy:</strong> 0.740742575347291"
      ],
      "text/latex": [
       "\\textbf{Balanced Accuracy:} 0.740742575347291"
      ],
      "text/markdown": [
       "**Balanced Accuracy:** 0.740742575347291"
      ],
      "text/plain": [
       "Balanced Accuracy \n",
       "        0.7407426 "
      ]
     },
     "metadata": {},
     "output_type": "display_data"
    }
   ],
   "source": [
    "adult11 = read.csv(\"C:\\\\Users\\\\student\\\\Documents\\\\Statistical Analysis using R\\\\Assignment 10\\\\adult.csv\", header = FALSE)\n",
    "colnames(adult11) <- c(\"age\", \"workclass\", \"fnlwgt\", \"education\", \"education_num\", \"marital_status\", \"occupation\", \"relationship\", \"race\", \"sex\", \"capital_gain\", \"capital_loss\", \"hours_per_week\", \"country\", \"salary_bucket\")\n",
    "\n",
    "levels(adult11$workclass)[levels(adult11$workingclass)==\" ?\"]<-NA\n",
    "levels(adult11$occupation)[levels(adult11$occupation)==\" ?\"]<-NA\n",
    "levels(adult11$country)[levels(adult11$country)==\" ?\"]<-NA\n",
    "\n",
    "adult11<-replaceMissingValues(adult11)\n",
    "\n",
    "levels(adult11$country)<-c(\"Asia\",\"North_America\",\"Asia\",\"South_America\",\"North_America\",\"North_America\",\"South_America\",\"North_America\",\"Europe\",\"Europe\",\"Europe\",\"Europe\",\"North_America\",\"North_America\",\"Europe\",\"North_America\",\"Asia\",\"Europe\",\"Asia\",\"Asia\",\"Europe\",\"Europe\",\"North_America\",\"Asia\",\"Asia\",\"North_America\",\"South_America\",\"Oceanic\",\"South_America\",\"Oceanic\",\"Europe\",\"Europe\",\"North_America\",\"Europe\",\"Asia\",\"Asia\",\"Asia\",\"North_America\",\"South_America\",\"Asia\",\"Europe\")\n",
    "levels(adult11$education)<-c(\"High_school\",\"High_school\",\"High_school\",\"Elementary\",\"Elementary\",\"Elementary\",\"High_school\",\"Undergrad\",\"Undergrad\",\"Undergrad\",\"Postgrad\",\"High_school\",\"Professiona\",\"Elementary\",\"Postgrad\",\"Undergrad\")\n",
    "levels(adult11$occupation)<-c(\"Business\",\"Government\",\"Industry\",\"Business\",\"Agriculture\",\"Business\",\"Industry\",\"Other\",\"Business\",\"Business\",\"Government\",\"Business\",\"Business\",\"Industry\")\n",
    "\n",
    "preProcessDataModel <- preProcess(adult11, method='knnImpute')\n",
    "preProcessDataModel\n",
    "\n",
    "if(!is.factor(adult11$salary_bucket)) {\n",
    "  adult11$salary_bucket = factor(adult11$salary_bucket)\n",
    "}\n",
    "dummies_model <- dummyVars(salary_bucket~., data=adult11)\n",
    "\n",
    "\n",
    "# Create the dummy variables using predict. The Y variable will not be present in trainData_mat.\n",
    "trainData_mat <- predict(dummies_model, newdata = adult11)\n",
    "\n",
    "# # Convert to dataframe\n",
    "trainData <- data.frame(trainData_mat)\n",
    "trainData$salary_bucket <- adult11$salary_bucket\n",
    "\n",
    "adult11 = trainData\n",
    "\n",
    "set.seed(2018)\n",
    "names(adult11)[50]=\"salary_bucket\"\n",
    "splitIndex <- createDataPartition(adult11$salary_bucket, p = 0.70, list = FALSE, times = 1)\n",
    "trainData <- adult11[splitIndex,]\n",
    "testData <- adult11[-splitIndex,]\n",
    "mytree <- rpart(salary_bucket ~ ., data = trainData, method = \"class\")\n",
    "pred <- predict(mytree, testData, type = \"class\")\n",
    "cm=confusionMatrix(data = (pred), reference = (testData$salary_bucket), positive = \" >50K\")\n",
    "dataAccuracy<-cm[[3]][1]\n",
    "dataBalancedAccuracy<-cm[[4]][11]\n",
    "dataAccuracy\n",
    "dataBalancedAccuracy"
   ]
  },
  {
   "cell_type": "code",
   "execution_count": 13,
   "metadata": {},
   "outputs": [
    {
     "name": "stderr",
     "output_type": "stream",
     "text": [
      "Warning message in model.frame.default(Terms, newdata, na.action = na.action, xlev = object$lvls):\n",
      "\"variable 'salary_bucket' is not a factor\""
     ]
    },
    {
     "data": {
      "text/plain": [
       "Created from 30162 samples and 50 variables\n",
       "\n",
       "Pre-processing:\n",
       "  - centered (49)\n",
       "  - ignored (1)\n",
       "  - scaled (49)\n"
      ]
     },
     "metadata": {},
     "output_type": "display_data"
    },
    {
     "data": {
      "text/html": [
       "<strong>Accuracy:</strong> 0.844389844389844"
      ],
      "text/latex": [
       "\\textbf{Accuracy:} 0.844389844389844"
      ],
      "text/markdown": [
       "**Accuracy:** 0.844389844389844"
      ],
      "text/plain": [
       " Accuracy \n",
       "0.8443898 "
      ]
     },
     "metadata": {},
     "output_type": "display_data"
    },
    {
     "data": {
      "text/html": [
       "<strong>Balanced Accuracy:</strong> 0.740742575347291"
      ],
      "text/latex": [
       "\\textbf{Balanced Accuracy:} 0.740742575347291"
      ],
      "text/markdown": [
       "**Balanced Accuracy:** 0.740742575347291"
      ],
      "text/plain": [
       "Balanced Accuracy \n",
       "        0.7407426 "
      ]
     },
     "metadata": {},
     "output_type": "display_data"
    }
   ],
   "source": [
    "adult=read.csv(\"C:\\\\Users\\\\student\\\\Documents\\\\Statistical Analysis using R\\\\Assignment 10\\\\adult.csv\", header = FALSE)\n",
    "colnames(adult) <- c(\"age\", \"workclass\", \"fnlwgt\", \"education\", \"education_num\", \"marital_status\", \"occupation\", \"relationship\", \"race\", \"sex\", \"capital_gain\", \"capital_loss\", \"hours_per_week\", \"country\", \"salary_bucket\")\n",
    "\n",
    "levels(adult$workclass)[levels(adult$workingclass)==\" ?\"]<-NA\n",
    "levels(adult$occupation)[levels(adult$occupation)==\" ?\"]<-NA\n",
    "levels(adult$country)[levels(adult$country)==\" ?\"]<-NA\n",
    "\n",
    "adult<-replaceMissingValues(adult)\n",
    "\n",
    "levels(adult$country)<-c(\"Asia\",\"North_America\",\"Asia\",\"South_America\",\"North_America\",\"North_America\",\"South_America\",\"North_America\",\"Europe\",\"Europe\",\"Europe\",\"Europe\",\"North_America\",\"North_America\",\"Europe\",\"North_America\",\"Asia\",\"Europe\",\"Asia\",\"Asia\",\"Europe\",\"Europe\",\"North_America\",\"Asia\",\"Asia\",\"North_America\",\"South_America\",\"Oceanic\",\"South_America\",\"Oceanic\",\"Europe\",\"Europe\",\"North_America\",\"Europe\",\"Asia\",\"Asia\",\"Asia\",\"North_America\",\"South_America\",\"Asia\",\"Europe\")\n",
    "levels(adult$education)<-c(\"High_school\",\"High_school\",\"High_school\",\"Elementary\",\"Elementary\",\"Elementary\",\"High_school\",\"Undergrad\",\"Undergrad\",\"Undergrad\",\"Postgrad\",\"High_school\",\"Professiona\",\"Elementary\",\"Postgrad\",\"Undergrad\")\n",
    "levels(adult$occupation)<-c(\"Business\",\"Government\",\"Industry\",\"Business\",\"Agriculture\",\"Business\",\"Industry\",\"Other\",\"Business\",\"Business\",\"Government\",\"Business\",\"Business\",\"Industry\")\n",
    "\n",
    "for(j in ncol(adult)) {\n",
    "  adult[,j]<-as.numeric(adult[,j])\n",
    "}\n",
    "\n",
    "if(!is.factor(adult$salary_bucket)) {\n",
    "  adult$salary_bucket = factor(adult$salary_bucket)\n",
    "}\n",
    "dummies_model <- dummyVars(salary_bucket~., data=adult)\n",
    "\n",
    "\n",
    "# Create the dummy variables using predict. The Y variable will not be present in trainData_mat.\n",
    "trainData_mat <- predict(dummies_model, newdata = adult)\n",
    "\n",
    "# # Convert to dataframe\n",
    "trainData <- data.frame(trainData_mat)\n",
    "trainData$salary_bucket <- adult$salary_bucket\n",
    "\n",
    "adult = trainData\n",
    "\n",
    "preProcessDataModel <- preProcess(adult, method=c(\"scale\",\"center\"))\n",
    "preProcessDataModel\n",
    "\n",
    "set.seed(2018)\n",
    "names(adult)[50]=\"salary_bucket\"\n",
    "splitIndex <- createDataPartition(adult$salary_bucket, p = 0.70, list = FALSE, times = 1)\n",
    "trainData <- adult[splitIndex,]\n",
    "testData <- adult[-splitIndex,]\n",
    "mytree <- rpart(salary_bucket ~ ., data = trainData, method = \"class\")\n",
    "pred <- predict(mytree, testData, type = \"class\")\n",
    "cm=confusionMatrix(data = (pred), reference = (testData$salary_bucket), positive = \"1\")\n",
    "dataAccuracy<-cm[[3]][1]\n",
    "dataBalancedAccuracy<-cm[[4]][11]\n",
    "dataAccuracy\n",
    "dataBalancedAccuracy"
   ]
  },
  {
   "cell_type": "code",
   "execution_count": 14,
   "metadata": {},
   "outputs": [
    {
     "name": "stderr",
     "output_type": "stream",
     "text": [
      "Warning message in model.frame.default(Terms, newdata, na.action = na.action, xlev = object$lvls):\n",
      "\"variable 'salary_bucket' is not a factor\""
     ]
    },
    {
     "data": {
      "text/plain": [
       "Created from 30162 samples and 106 variables\n",
       "\n",
       "Pre-processing:\n",
       "  - centered (105)\n",
       "  - ignored (1)\n",
       "  - scaled (105)\n"
      ]
     },
     "metadata": {},
     "output_type": "display_data"
    },
    {
     "data": {
      "text/html": [
       "<strong>Accuracy:</strong> 0.999180999180999"
      ],
      "text/latex": [
       "\\textbf{Accuracy:} 0.999180999180999"
      ],
      "text/markdown": [
       "**Accuracy:** 0.999180999180999"
      ],
      "text/plain": [
       "Accuracy \n",
       "0.999181 "
      ]
     },
     "metadata": {},
     "output_type": "display_data"
    },
    {
     "data": {
      "text/html": [
       "<strong>Balanced Accuracy:</strong> 0.999188256618058"
      ],
      "text/latex": [
       "\\textbf{Balanced Accuracy:} 0.999188256618058"
      ],
      "text/markdown": [
       "**Balanced Accuracy:** 0.999188256618058"
      ],
      "text/plain": [
       "Balanced Accuracy \n",
       "        0.9991883 "
      ]
     },
     "metadata": {},
     "output_type": "display_data"
    }
   ],
   "source": [
    "adult=read.csv(\"C:\\\\Users\\\\student\\\\Documents\\\\Statistical Analysis using R\\\\Assignment 10\\\\adult.csv\", header = FALSE)\n",
    "colnames(adult) <- c(\"age\", \"workclass\", \"fnlwgt\", \"education\", \"education_num\", \"marital_status\", \"occupation\", \"relationship\", \"race\", \"sex\", \"capital_gain\", \"capital_loss\", \"hours_per_week\", \"country\", \"salary_bucket\")\n",
    "\n",
    "levels(adult$workclass)[levels(adult$workingclass)==\" ?\"]<-NA\n",
    "levels(adult$occupation)[levels(adult$occupation)==\" ?\"]<-NA\n",
    "levels(adult$country)[levels(adult$country)==\" ?\"]<-NA\n",
    "\n",
    "adult<-replaceMissingValues(adult)\n",
    "\n",
    "for(j in ncol(adult)) {\n",
    "  adult[,j]<-as.numeric(adult[,j])\n",
    "}\n",
    "\n",
    "if(!is.factor(adult$salary_bucket)) {\n",
    "  adult$salary_bucket = factor(adult$salary_bucket)\n",
    "}\n",
    "dummies_model <- dummyVars(salary_bucket~., data=adult)\n",
    "\n",
    "\n",
    "# Create the dummy variables using predict. The Y variable will not be present in trainData_mat.\n",
    "trainData_mat <- predict(dummies_model, newdata = adult)\n",
    "\n",
    "# # Convert to dataframe\n",
    "trainData <- data.frame(trainData_mat)\n",
    "trainData$salary_bucket <- adult$salary_bucket\n",
    "\n",
    "adult = trainData\n",
    "\n",
    "preProcessDataModel <- preProcess(adult, method=c(\"scale\",\"center\"))\n",
    "preProcessDataModel\n",
    "\n",
    "set.seed(2018)\n",
    "names(adult)[50]=\"salary_bucket\"\n",
    "splitIndex <- createDataPartition(adult$salary_bucket, p = 0.70, list = FALSE, times = 1)\n",
    "trainData <- adult[splitIndex,]\n",
    "testData <- adult[-splitIndex,]\n",
    "mytree <- rpart(salary_bucket ~ ., data = trainData, method = \"class\")\n",
    "pred <- predict(mytree, testData, type = \"class\")\n",
    "cm=confusionMatrix(data = (pred), reference = as.factor(testData$salary_bucket), positive = \"1\")\n",
    "dataAccuracy<-cm[[3]][1]\n",
    "dataBalancedAccuracy<-cm[[4]][11]\n",
    "dataAccuracy\n",
    "dataBalancedAccuracy"
   ]
  },
  {
   "cell_type": "code",
   "execution_count": null,
   "metadata": {},
   "outputs": [],
   "source": []
  }
 ],
 "metadata": {
  "kernelspec": {
   "display_name": "R",
   "language": "R",
   "name": "ir"
  },
  "language_info": {
   "codemirror_mode": "r",
   "file_extension": ".r",
   "mimetype": "text/x-r-source",
   "name": "R",
   "pygments_lexer": "r",
   "version": "3.5.1"
  }
 },
 "nbformat": 4,
 "nbformat_minor": 2
}
