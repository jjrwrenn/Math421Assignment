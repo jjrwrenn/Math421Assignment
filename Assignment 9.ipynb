{
 "cells": [
  {
   "cell_type": "code",
   "execution_count": 1,
   "metadata": {},
   "outputs": [],
   "source": [
    "funcOne = function(x) {\n",
    "  for(i in 1:ncol(x)) {\n",
    "    sumMissing <- sum(is.na(x[,i]))\n",
    "    cat(\"Missing in column \", i, \": \", sumMissing, \"\\n\")\n",
    "  }\n",
    "}"
   ]
  },
  {
   "cell_type": "code",
   "execution_count": 2,
   "metadata": {},
   "outputs": [],
   "source": [
    "funcTwo = function(x) {\n",
    "  for(i in 1:ncol(x)) {\n",
    "    if(sum(is.na(x[,i])) > 0) {\n",
    "      cat(\"Column \", colnames(x)[i], \" is missing data\\n\")\n",
    "    }\n",
    "  }\n",
    "}\n"
   ]
  },
  {
   "cell_type": "code",
   "execution_count": 3,
   "metadata": {},
   "outputs": [],
   "source": [
    "funcThree = function(x) {\n",
    "  for(i in 1:ncol(x)) {\n",
    "    if(sum(is.na(x[,i])) > 0) {\n",
    "      cat(\"Column \", colnames(x)[i], \" is missing \", sum(is.na(x[,i])), \"\\n\")\n",
    "    }\n",
    "  }\n",
    "}\n"
   ]
  },
  {
   "cell_type": "code",
   "execution_count": 4,
   "metadata": {},
   "outputs": [],
   "source": [
    "Mode = function(x, na.rm = TRUE){ \n",
    "    ta = table(x)\n",
    "    tam = max(ta)\n",
    "    if (all(ta == tam))\n",
    "      mod = NA\n",
    "    else\n",
    "      if(is.numeric(x))\n",
    "        mod = as.numeric(names(ta)[ta == tam])\n",
    "      else\n",
    "        mod = names(ta)[ta == tam]\n",
    "    return(mod)\n",
    "}\n",
    "\n",
    "funcFour = function(x) {\n",
    "  for(i in 1:ncol(x)) {\n",
    "    if(is.numeric(x[,i])) {\n",
    "      meanNum = mean(x[,i], na.rm = TRUE)\n",
    "      for(j in 1:nrow(x)) {\n",
    "        if(is.na(x[j,i]))\n",
    "          x[j,i] <- meanNum\n",
    "      }\n",
    "    } else {\n",
    "      common = Mode(x[,i])\n",
    "      for (j in 1:nrow(x)) {\n",
    "        if(is.na(x[j,i]))\n",
    "          x[j,i] <- common[1]\n",
    "      }\n",
    "    }\n",
    "  }\n",
    "  return(x)\n",
    "}\n"
   ]
  },
  {
   "cell_type": "code",
   "execution_count": 5,
   "metadata": {},
   "outputs": [],
   "source": [
    "funcFive = function(x) {\n",
    "  m1 <- NULL\n",
    "  m2 <- NULL\n",
    "  for (i in 1:ncol(x)) {\n",
    "    if(is.numeric(x[,i])) {\n",
    "      if(is.null(m1)) {\n",
    "        m1 <- x[,i]\n",
    "      } else {\n",
    "        m1 <- cbind(m1, x[,i])\n",
    "      }\n",
    "    } else {\n",
    "      if(is.null(m2)) {\n",
    "        m2 <- x[,i]\n",
    "      } else {\n",
    "        m2 <- cbind(m2, x[,i])\n",
    "      }\n",
    "    }\n",
    "  }\n",
    "  m3 <- list(m1,m2)\n",
    "  return (m3)\n",
    "}\n"
   ]
  },
  {
   "cell_type": "code",
   "execution_count": 6,
   "metadata": {},
   "outputs": [],
   "source": [
    "funcSix = function(x,c) {\n",
    "  endList = NULL\n",
    "  for(i in 1:length(c)) {\n",
    "    if(is.numeric(c[i])) {\n",
    "      endList <- list(endList, ggplot(x, aes(x=x[,c[i]]))+geom_density())\n",
    "      \n",
    "    }\n",
    "  }\n",
    "  return (endList)\n",
    "}\n"
   ]
  },
  {
   "cell_type": "code",
   "execution_count": 7,
   "metadata": {},
   "outputs": [],
   "source": [
    "funcSeven = function(x) {\n",
    "  for(i in 1:ncol(x)) {\n",
    "    if(!(is.numeric(x[,i]))) {\n",
    "      ggplot(x) + geom_bar(x[,!(is.numeric(x[,i]))],mapping = aes(x = x[,i]))\n",
    "    }\n",
    "  }\n",
    "}\n",
    "\n"
   ]
  },
  {
   "cell_type": "code",
   "execution_count": 8,
   "metadata": {},
   "outputs": [],
   "source": [
    "funcEight = function(dataSet,i,j) {\n",
    "  if((is.numeric(i)|is.numeric(j))){\n",
    "    cat(\"One of these variables is numeric, returning\")\n",
    "    return()\n",
    "  }\n",
    "  return(ggplot(data=dataSet, aes(x=i,fill=j)) + geom_bar())\n",
    "}"
   ]
  },
  {
   "cell_type": "code",
   "execution_count": 9,
   "metadata": {},
   "outputs": [],
   "source": [
    "funcTen = function(x,i,j) {\n",
    "  ggplot(x, aes(x=i)) + geom_density() + facet_wrap(j)\n",
    "}\n"
   ]
  },
  {
   "cell_type": "code",
   "execution_count": 10,
   "metadata": {},
   "outputs": [],
   "source": [
    "funcEleven = function(dataSet) {\n",
    "  for(i in 1:(ncol(dataSet)-1)) {\n",
    "    if(!is.numeric(dataSet[,i])) {\n",
    "      for(j in (i+1):ncol(dataSet)){\n",
    "        if((is.numeric(dataSet[,j]))) {\n",
    "          ggplot(data=dataSet, aes(x=dataSet[,i],fill=dataSet[,j]))+geom_bar()\n",
    "        }\n",
    "      }\n",
    "    }\n",
    "  }\n",
    "}\n"
   ]
  },
  {
   "cell_type": "code",
   "execution_count": null,
   "metadata": {},
   "outputs": [],
   "source": [
    "funcTwelve = function(dataSet) {\n",
    "    for(i in 1:(ncol(dataSet))) {\n",
    "      print(ggplot(dataSet) + geom_density(mapping = aes(x = dataSet[,i])))\n",
    "    }\n",
    "}"
   ]
  },
  {
   "cell_type": "code",
   "execution_count": 11,
   "metadata": {},
   "outputs": [],
   "source": [
    "funcThirteen = function(dataSet, vectorOfStuff) {\n",
    "  endList = NULL\n",
    "  for(i in 1:length(vectorOfStuff)) {\n",
    "    if(is.numeric(c[i])) {\n",
    "      endList <- list(endList, ggplot(x, aes(x=x[,vectorOfStuff[i]]))+geom_density())\n",
    "    } else {\n",
    "      endList <- list(endList, ggplot(x, aes(x=x[,vectorOfStuff]))+geom_bar())\n",
    "    }\n",
    "  }\n",
    "  return \n",
    "}\n"
   ]
  },
  {
   "cell_type": "code",
   "execution_count": null,
   "metadata": {},
   "outputs": [],
   "source": []
  }
 ],
 "metadata": {
  "kernelspec": {
   "display_name": "R",
   "language": "R",
   "name": "ir"
  },
  "language_info": {
   "codemirror_mode": "r",
   "file_extension": ".r",
   "mimetype": "text/x-r-source",
   "name": "R",
   "pygments_lexer": "r",
   "version": "3.5.1"
  }
 },
 "nbformat": 4,
 "nbformat_minor": 2
}
