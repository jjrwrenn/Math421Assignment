{
 "cells": [
  {
   "cell_type": "code",
   "execution_count": 2,
   "metadata": {},
   "outputs": [],
   "source": [
    "adult = read.csv(\"C:\\\\Users\\\\student\\\\Documents\\\\Statistical Analysis using R\\\\Assignment 10\\\\adult.csv\", header = FALSE)\n",
    "titanic=read.csv(\"C:\\\\Users\\\\student\\\\Documents\\\\Applied Data Mining\\\\train.csv\")\n",
    "colnames(adult) <- c(\"age\", \"workclass\", \"fnlwgt\", \"education\", \"education_num\", \"marital_status\", \"occupation\", \"relationship\", \"race\", \"sex\", \"capital_gain\", \"capital_loss\", \"hours_per_week\", \"country\", \"salary_bucket\")"
   ]
  },
  {
   "cell_type": "code",
   "execution_count": 3,
   "metadata": {},
   "outputs": [
    {
     "name": "stderr",
     "output_type": "stream",
     "text": [
      "Loading required package: lattice\n",
      "Loading required package: ggplot2\n"
     ]
    },
    {
     "data": {
      "text/plain": [
       "Created from 891 samples and 12 variables\n",
       "\n",
       "Pre-processing:\n",
       "  - centered (6)\n",
       "  - ignored (6)\n",
       "  - 5 nearest neighbor imputation (6)\n",
       "  - scaled (6)\n"
      ]
     },
     "metadata": {},
     "output_type": "display_data"
    },
    {
     "data": {
      "text/plain": [
       "Created from 32561 samples and 15 variables\n",
       "\n",
       "Pre-processing:\n",
       "  - centered (6)\n",
       "  - ignored (9)\n",
       "  - 5 nearest neighbor imputation (6)\n",
       "  - scaled (6)\n"
      ]
     },
     "metadata": {},
     "output_type": "display_data"
    }
   ],
   "source": [
    "library(caret)\n",
    "\n",
    "titanic$Survived = factor(titanic$Survived)\n",
    "\n",
    "replaceMissingTitanic = function(x) {\n",
    "  for(i in 1:ncol(x)) {\n",
    "    if(is.numeric(x[,i])){\n",
    "      colMean = mean(x[,i],na.rm=TRUE)\n",
    "      for(j in 1:nrow(x)) {\n",
    "        if(is.na(x[j,i])) {\n",
    "          x[j,i] = colMean\n",
    "        }\n",
    "      }\n",
    "    }\n",
    "  }\n",
    "  return (x)\n",
    "}\n",
    "titanic = replaceMissingTitanic(titanic)\n",
    "preProcessDataModelTitanic <- preProcess(titanic, method='knnImpute')\n",
    "preProcessDataModelTitanic\n",
    "\n",
    "preProcessDataModelAdult <- preProcess(adult, method='knnImpute')\n",
    "preProcessDataModelAdult"
   ]
  },
  {
   "cell_type": "code",
   "execution_count": null,
   "metadata": {},
   "outputs": [],
   "source": [
    "myGrid7adult = expand.grid(mtry = 2, splitrule = (\"gini\"),\n",
    "                     min.node.size = c(1:3))\n",
    "model7adult <- train(salary_bucket~.,data = adult, method = \"ranger\", \n",
    "               trControl = trainControl(method =\"cv\", number = 7, verboseIter = TRUE),\n",
    "               tuneGrid = myGrid7adult)\n",
    "\n",
    "model7adult[[4]][4]\n",
    "\n",
    "myGrid7titanic = expand.grid(mtry = 2, splitrule = (\"gini\"),\n",
    "                     min.node.size = c(1:3))\n",
    "model7titanic <- train(Survived~.,data = titanic, method = \"ranger\", \n",
    "                       trControl = trainControl(method =\"cv\", number = 7, verboseIter = TRUE), \n",
    "                       tuneGrid = myGrid7titanic)\n",
    "\n",
    "model7titanic[[4]][4]"
   ]
  },
  {
   "cell_type": "code",
   "execution_count": null,
   "metadata": {},
   "outputs": [],
   "source": [
    "myGrid10adult = expand.grid(mtry = 2, splitrule = (\"gini\"),\n",
    "                     min.node.size = c(1:3))\n",
    "model10adult <- train(salary_bucket~.,data = adult, method = \"ranger\", \n",
    "               trControl = trainControl(method =\"cv\", number = 10, verboseIter = TRUE),\n",
    "               tuneGrid = myGrid10adult)\n",
    "\n",
    "model10adult[[4]][4]\n",
    "\n",
    "myGrid10titanic = expand.grid(mtry = 2, splitrule = (\"gini\"),\n",
    "                     min.node.size = c(1:3))\n",
    "model10titanic <- train(Survived~.,data = titanic, method = \"ranger\", \n",
    "                       trControl = trainControl(method =\"cv\", number = 10, verboseIter = TRUE), \n",
    "                       tuneGrid = myGrid10titanic)\n",
    "\n",
    "model10titanic[[4]][4]"
   ]
  },
  {
   "cell_type": "code",
   "execution_count": null,
   "metadata": {},
   "outputs": [],
   "source": [
    "cat(\"mtry was set to 2, splitrule was set to gini, and min.mode.size was set to 1:3\")"
   ]
  },
  {
   "cell_type": "code",
   "execution_count": null,
   "metadata": {},
   "outputs": [],
   "source": [
    "plot(model7adult)\n",
    "plot(model10adult)\n",
    "plot(model7titanic)\n",
    "plot(model10titanic)"
   ]
  },
  {
   "cell_type": "code",
   "execution_count": null,
   "metadata": {},
   "outputs": [],
   "source": [
    "myGrid7adult = expand.grid(mtry = c(1:(ncol(adult)-1)), splitrule = c(\"gini\", \"extratress\"),\n",
    "                     min.node.size = c(1:3))\n",
    "model7adult <- train(salary_bucket~.,data = adult, method = \"ranger\", \n",
    "               trControl = trainControl(method =\"cv\", number = 7, verboseIter = TRUE),\n",
    "               tuneGrid = myGrid7adult)\n",
    "\n",
    "\n",
    "myGrid7titanic = expand.grid(mtry = c(1:(ncol(titanic)-1)), splitrule = c(\"gini\", \"extratress\"),\n",
    "                     min.node.size = c(1:3))\n",
    "model7titanic <- train(Survived~.,data = titanic, method = \"ranger\", \n",
    "               trControl = trainControl(method =\"cv\", number = 7, verboseIter = TRUE),\n",
    "               tuneGrid = myGrid7titanic)"
   ]
  },
  {
   "cell_type": "code",
   "execution_count": null,
   "metadata": {},
   "outputs": [],
   "source": [
    "plot(model7adult)\n",
    "plot(model7titanic)"
   ]
  },
  {
   "cell_type": "code",
   "execution_count": null,
   "metadata": {},
   "outputs": [],
   "source": []
  }
 ],
 "metadata": {
  "kernelspec": {
   "display_name": "R",
   "language": "R",
   "name": "ir"
  },
  "language_info": {
   "codemirror_mode": "r",
   "file_extension": ".r",
   "mimetype": "text/x-r-source",
   "name": "R",
   "pygments_lexer": "r",
   "version": "3.5.1"
  }
 },
 "nbformat": 4,
 "nbformat_minor": 2
}
